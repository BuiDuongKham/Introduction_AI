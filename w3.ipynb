{
 "cells": [
  {
   "cell_type": "code",
   "execution_count": 1,
   "metadata": {
    "collapsed": true,
    "ExecuteTime": {
     "end_time": "2023-06-27T16:39:14.075771400Z",
     "start_time": "2023-06-27T16:39:13.872437700Z"
    }
   },
   "outputs": [],
   "source": [
    "import numpy as np"
   ]
  },
  {
   "cell_type": "code",
   "execution_count": 2,
   "outputs": [],
   "source": [
    "class Stack:\n",
    "    def __init__(self):\n",
    "        self.storage = []\n",
    "        self.size = 0\n",
    "\n",
    "    def push(self, data):\n",
    "        self.storage.append(data)\n",
    "        self.size += 1\n",
    "\n",
    "    def pop(self):\n",
    "        if self.size > 0:\n",
    "            self.size -= 1\n",
    "            return self.storage.pop()\n",
    "        else:\n",
    "            return None\n",
    "\n",
    "    def getSize(self):\n",
    "        return self.size\n",
    "\n",
    "    def isEmpty(self):\n",
    "        return self.size == 0\n",
    "\n",
    "    def peek(self):\n",
    "        if self.size > 0:\n",
    "            return self.storage[-1]\n",
    "        else:\n",
    "            return None\n",
    "\n",
    "\n",
    "    def __str__(self):\n",
    "        return str(self.storage)"
   ],
   "metadata": {
    "collapsed": false,
    "ExecuteTime": {
     "end_time": "2023-06-27T16:39:14.080300200Z",
     "start_time": "2023-06-27T16:39:14.074771300Z"
    }
   }
  },
  {
   "cell_type": "code",
   "execution_count": 3,
   "outputs": [],
   "source": [
    "class Queue:\n",
    "    def __init__(self):\n",
    "        self.storage = []\n",
    "        self.size = 0\n",
    "\n",
    "    def enqueue(self, data):\n",
    "        self.storage.append(data)\n",
    "        self.size += 1\n",
    "\n",
    "    def dequeue(self):\n",
    "        if self.size > 0:\n",
    "            self.size -= 1\n",
    "            return self.storage.pop(0)\n",
    "        else:\n",
    "            return None\n",
    "\n",
    "    def getSize(self):\n",
    "        return self.size\n",
    "\n",
    "    def isEmpty(self):\n",
    "        return self.size == 0\n",
    "\n",
    "    def peek(self):\n",
    "        if self.size > 0:\n",
    "            return self.storage[0]\n",
    "        else:\n",
    "            return None\n",
    "\n",
    "    def __str__(self):\n",
    "        return str(self.storage)"
   ],
   "metadata": {
    "collapsed": false,
    "ExecuteTime": {
     "end_time": "2023-06-27T16:39:14.086362700Z",
     "start_time": "2023-06-27T16:39:14.081299900Z"
    }
   }
  },
  {
   "cell_type": "code",
   "execution_count": 4,
   "outputs": [],
   "source": [
    "# A simple implementation of Priority Queue\n",
    "# using Queue.\n",
    "class PriorityQueue(object):\n",
    "\tdef __init__(self):\n",
    "\t\tself.queue = []\n",
    "\n",
    "\tdef __str__(self):\n",
    "\t\treturn ' '.join([str(i) for i in self.queue])\n",
    "\n",
    "\t# for checking if the queue is empty\n",
    "\tdef isEmpty(self):\n",
    "\t\treturn len(self.queue) == 0\n",
    "\n",
    "\t# for inserting an element in the queue\n",
    "\tdef insert(self, data):\n",
    "\t\tself.queue.append(data)\n",
    "\n",
    "\t# for popping an element based on Priority\n",
    "\tdef dequeue(self):\n",
    "\t\ttry:\n",
    "\t\t\tmax_val = 0\n",
    "\t\t\tfor i in range(len(self.queue)):\n",
    "\t\t\t\tif self.queue[i]['score'] < self.queue[max_val]['score']:\n",
    "\t\t\t\t\tmax_val = i\n",
    "\t\t\titem = self.queue[max_val]\n",
    "\t\t\tdel self.queue[max_val]\n",
    "\t\t\treturn item\n",
    "\t\texcept IndexError:\n",
    "\t\t\tprint()\n",
    "\t\t\texit()"
   ],
   "metadata": {
    "collapsed": false,
    "ExecuteTime": {
     "end_time": "2023-06-27T16:39:14.091383600Z",
     "start_time": "2023-06-27T16:39:14.088363500Z"
    }
   }
  },
  {
   "cell_type": "code",
   "execution_count": 5,
   "outputs": [],
   "source": [
    "my_priority_queue = PriorityQueue()"
   ],
   "metadata": {
    "collapsed": false,
    "ExecuteTime": {
     "end_time": "2023-06-27T16:39:14.096318300Z",
     "start_time": "2023-06-27T16:39:14.093812500Z"
    }
   }
  },
  {
   "cell_type": "code",
   "execution_count": 6,
   "outputs": [],
   "source": [
    "my_priority_queue.insert({'val': 10, 'score': 20})\n",
    "my_priority_queue.insert({'val': 20, 'score': 10})\n",
    "my_priority_queue.insert({'val': 30, 'score': 30})\n",
    "my_priority_queue.insert({'val': 40, 'score': 40})"
   ],
   "metadata": {
    "collapsed": false,
    "ExecuteTime": {
     "end_time": "2023-06-27T16:39:14.106149400Z",
     "start_time": "2023-06-27T16:39:14.097318700Z"
    }
   }
  },
  {
   "cell_type": "code",
   "execution_count": 7,
   "outputs": [],
   "source": [
    "head = my_priority_queue.dequeue()"
   ],
   "metadata": {
    "collapsed": false,
    "ExecuteTime": {
     "end_time": "2023-06-27T16:39:14.106149400Z",
     "start_time": "2023-06-27T16:39:14.102511400Z"
    }
   }
  },
  {
   "cell_type": "code",
   "execution_count": 8,
   "outputs": [
    {
     "data": {
      "text/plain": "{'val': 20, 'score': 10}"
     },
     "execution_count": 8,
     "metadata": {},
     "output_type": "execute_result"
    }
   ],
   "source": [
    "head"
   ],
   "metadata": {
    "collapsed": false,
    "ExecuteTime": {
     "end_time": "2023-06-27T16:39:14.118971300Z",
     "start_time": "2023-06-27T16:39:14.107149600Z"
    }
   }
  },
  {
   "cell_type": "code",
   "execution_count": 9,
   "outputs": [],
   "source": [
    "initial_state = np.array(\n",
    "    [\n",
    "        [7,2,3],\n",
    "        [4,6,8],\n",
    "        [5,1,0]\n",
    "    ]\n",
    ")\n",
    "desired_state = np.array(\n",
    "    [\n",
    "        [1,2,3],\n",
    "        [4,5,6],\n",
    "        [7,8,0]\n",
    "    ]\n",
    ")"
   ],
   "metadata": {
    "collapsed": false,
    "ExecuteTime": {
     "end_time": "2023-06-27T16:39:14.119971600Z",
     "start_time": "2023-06-27T16:39:14.117971500Z"
    }
   }
  },
  {
   "cell_type": "code",
   "execution_count": 10,
   "outputs": [],
   "source": [
    "def get_possible_moves(state,desired_state, x, y, current_depth):\n",
    "    possible_moves = []\n",
    "    if x > 0:\n",
    "        clone_state = state.copy()\n",
    "        temp = clone_state[x-1, y]\n",
    "        clone_state[x-1, y] = clone_state[x, y]\n",
    "        clone_state[x, y] = temp\n",
    "        possible_moves.append({'state': clone_state, 'pos': (x-1, y), 'parent': state, 'depth': current_depth+1,'score': manhattan_distance(clone_state, desired_state)})\n",
    "\n",
    "    if x < state.shape[0]-1:\n",
    "        clone_state = state.copy()\n",
    "        temp = clone_state[x+1, y]\n",
    "        clone_state[x+1, y] = clone_state[x, y]\n",
    "        clone_state[x, y] = temp\n",
    "        possible_moves.append({'state': clone_state, 'pos': (x+1, y), 'parent': state, 'depth': current_depth+1,\n",
    "                               'score': manhattan_distance(clone_state, desired_state)})\n",
    "\n",
    "    if y > 0:\n",
    "        clone_state = state.copy()\n",
    "        temp = clone_state[x, y-1]\n",
    "        clone_state[x, y-1] = clone_state[x, y]\n",
    "        clone_state[x, y] = temp\n",
    "        possible_moves.append({'state': clone_state, 'pos': (x, y-1), 'parent': state, 'depth': current_depth+1, 'score': manhattan_distance(clone_state, desired_state)})\n",
    "\n",
    "    if y < state.shape[1]-1:\n",
    "        clone_state = state.copy()\n",
    "        temp = clone_state[x, y+1]\n",
    "        clone_state[x, y+1] = clone_state[x, y]\n",
    "        clone_state[x, y] = temp\n",
    "        possible_moves.append({'state': clone_state, 'pos': (x, y+1), 'parent': state, 'depth': current_depth+1, 'score': manhattan_distance(clone_state, desired_state)})\n",
    "\n",
    "    return possible_moves"
   ],
   "metadata": {
    "collapsed": false,
    "ExecuteTime": {
     "end_time": "2023-06-27T16:39:14.126976500Z",
     "start_time": "2023-06-27T16:39:14.118971300Z"
    }
   }
  },
  {
   "cell_type": "code",
   "execution_count": 11,
   "outputs": [],
   "source": [
    "def check_array_presence(arr, list_of_arrays):\n",
    "    for array in list_of_arrays:\n",
    "        if (array == arr).all():\n",
    "            return True\n",
    "    return False"
   ],
   "metadata": {
    "collapsed": false,
    "ExecuteTime": {
     "end_time": "2023-06-27T16:39:14.145324300Z",
     "start_time": "2023-06-27T16:39:14.127978400Z"
    }
   }
  },
  {
   "cell_type": "code",
   "execution_count": 12,
   "outputs": [],
   "source": [
    "def manhattan_distance(state, desired_state):\n",
    "    distance = 0\n",
    "    for i in range(state.shape[0]):\n",
    "        for j in range(state.shape[1]):\n",
    "            if state[i,j] != 0:\n",
    "                x, y = np.where(desired_state == state[i,j])\n",
    "                distance += abs(x[0] - i) + abs(y[0] - j)\n",
    "    return distance"
   ],
   "metadata": {
    "collapsed": false,
    "ExecuteTime": {
     "end_time": "2023-06-27T16:39:14.146323700Z",
     "start_time": "2023-06-27T16:39:14.131415200Z"
    }
   }
  },
  {
   "cell_type": "code",
   "execution_count": 13,
   "outputs": [],
   "source": [
    "import datetime\n",
    "class Puzzle:\n",
    "    def __init__(self, initial_state, desired_state, iterations=1000):\n",
    "\n",
    "        # find the position of number 0 in initial state\n",
    "        x, y = np.where(initial_state == 0)\n",
    "\n",
    "        self.x1 = x[0]\n",
    "        self.y1 = y[0]\n",
    "        self.initial_state = initial_state\n",
    "        self.desired_state = desired_state\n",
    "        self.visited_states = []\n",
    "        self.visited_states.append(\n",
    "            {\n",
    "                'state': initial_state,\n",
    "                'pos': (self.x1, self.y1),\n",
    "                'parent': None,\n",
    "                'depth': 0,\n",
    "                'score': manhattan_distance(initial_state, desired_state)\n",
    "            }\n",
    "        )\n",
    "        self.found = False\n",
    "        self.maximum_iterations = iterations\n",
    "\n",
    "\n",
    "    def dfs(self):\n",
    "        count = 0\n",
    "        time_start = datetime.datetime.now()\n",
    "        self.dfs_storage = Stack()\n",
    "        self.dfs_storage.push(\n",
    "            {\n",
    "                'state': initial_state,\n",
    "                'pos': (self.x1, self.y1),\n",
    "                'parent': None,\n",
    "                'depth': 0,\n",
    "                'score': manhattan_distance(initial_state, desired_state)\n",
    "            }\n",
    "        )\n",
    "\n",
    "        # clear visited state first\n",
    "        self.found = False\n",
    "        self.visited_states = []\n",
    "        self.visited_states.append(\n",
    "            {\n",
    "                'state': self.initial_state,\n",
    "                'pos': (self.x1, self.y1),\n",
    "                'parent': None,\n",
    "                'depth': 0,\n",
    "                'score': manhattan_distance(self.initial_state, self.desired_state)\n",
    "            }\n",
    "        )\n",
    "\n",
    "\n",
    "        while self.dfs_storage.getSize() > 0 and count < self.maximum_iterations:\n",
    "            count += 1\n",
    "            current_state = self.dfs_storage.pop()\n",
    "\n",
    "            if (current_state['state'] == self.desired_state).all():\n",
    "                self.found = True\n",
    "                time_end = datetime.datetime.now()\n",
    "                print('found in ', time_end - time_start, ' seconds')\n",
    "                return\n",
    "            possible_moves = get_possible_moves(current_state['state'], self.desired_state, current_state['pos'][0], current_state['pos'][1], current_depth= current_state['depth'])\n",
    "\n",
    "\n",
    "            for move in possible_moves:\n",
    "\n",
    "                if (move['state'] == self.desired_state).all():\n",
    "                    self.visited_states.append(move)\n",
    "                    self.found = True\n",
    "                    print('found')\n",
    "                    time_end = datetime.datetime.now()\n",
    "                    print('found in ', time_end - time_start, ' seconds')\n",
    "                    return\n",
    "\n",
    "                if  not check_array_presence(move['state'], list(map(lambda x: x['state'], self.visited_states ))) and not self.found:\n",
    "                    self.dfs_storage.push(move)\n",
    "                    self.visited_states.append(move)\n",
    "\n",
    "        time_end = datetime.datetime.now()\n",
    "        print('not found after ', time_end - time_start, ' seconds')\n",
    "\n",
    "    def bfs(self):\n",
    "        count = 0\n",
    "        time_start = datetime.datetime.now()\n",
    "        self.bfs_storage = Queue()\n",
    "        self.bfs_storage.enqueue(\n",
    "            {\n",
    "                'state': initial_state,\n",
    "                'pos': (self.x1, self.y1),\n",
    "                'parent': None,\n",
    "                'depth': 0\n",
    "            }\n",
    "        )\n",
    "\n",
    "        # clear visited state first\n",
    "        self.found = False\n",
    "        self.visited_states = []\n",
    "        self.visited_states.append(\n",
    "            {\n",
    "                'state': self.initial_state,\n",
    "                'pos': (self.x1, self.y1),\n",
    "                'parent': None,\n",
    "                'depth': 0\n",
    "            }\n",
    "        )\n",
    "        while self.bfs_storage.getSize() > 0 and count < self.maximum_iterations:\n",
    "            count += 1\n",
    "            current_state = self.bfs_storage.dequeue()\n",
    "\n",
    "            if (current_state['state'] == self.desired_state).all():\n",
    "                self.found = True\n",
    "                time_end = datetime.datetime.now()\n",
    "                print('found in ', time_end - time_start, ' seconds')\n",
    "                return\n",
    "            possible_moves = get_possible_moves(current_state['state'], self.desired_state, current_state['pos'][0], current_state['pos'][1], current_depth= current_state['depth'])\n",
    "\n",
    "            for move in possible_moves:\n",
    "\n",
    "                if (move['state'] == self.desired_state).all():\n",
    "                    self.visited_states.append(move)\n",
    "                    self.found = True\n",
    "                    time_end = datetime.datetime.now()\n",
    "                    print('found in ', time_end - time_start, ' seconds')\n",
    "                    return\n",
    "\n",
    "                if not check_array_presence(move['state'], list(map(lambda x: x['state'], self.visited_states ))) and not self.found:\n",
    "                    self.bfs_storage.enqueue(move)\n",
    "                    self.visited_states.append(move)\n",
    "\n",
    "        time_end = datetime.datetime.now()\n",
    "        print('not found after ', time_end - time_start, ' seconds')\n",
    "\n",
    "    def dfs_with_limited_depth(self, depth):\n",
    "        count = 0\n",
    "        time_start = datetime.datetime.now()\n",
    "        self.dfs_storage = Stack()\n",
    "        self.dfs_storage.push(\n",
    "            {\n",
    "                'state': initial_state,\n",
    "                'pos': (self.x1, self.y1),\n",
    "                'parent': None,\n",
    "                'depth': 0,\n",
    "                'score': manhattan_distance(initial_state, desired_state)\n",
    "            }\n",
    "        )\n",
    "\n",
    "        # clear visited state first\n",
    "        self.found = False\n",
    "        self.visited_states = []\n",
    "        self.visited_states.append(\n",
    "            {\n",
    "                'state': self.initial_state,\n",
    "                'pos': (self.x1, self.y1),\n",
    "                'parent': None,\n",
    "                'depth': 0,\n",
    "                'score': manhattan_distance(self.initial_state, self.desired_state)\n",
    "            }\n",
    "        )\n",
    "\n",
    "        while self.dfs_storage.size >0 and count < self.maximum_iterations:\n",
    "            count += 1\n",
    "            current_state = self.dfs_storage.pop()\n",
    "\n",
    "            if (current_state['state'] == self.desired_state).all():\n",
    "                self.found = True\n",
    "                time_end = datetime.datetime.now()\n",
    "                print('found in ', time_end - time_start, ' seconds')\n",
    "                return\n",
    "            possible_moves = get_possible_moves(current_state['state'], self.desired_state, current_state['pos'][0], current_state['pos'][1], current_depth= current_state['depth'])\n",
    "\n",
    "            for move in possible_moves:\n",
    "\n",
    "                if (move['state'] == self.desired_state).all():\n",
    "                    self.visited_states.append(move)\n",
    "                    self.found = True\n",
    "                    time_end = datetime.datetime.now()\n",
    "                    print('found in ', time_end - time_start, ' seconds')\n",
    "                    return\n",
    "\n",
    "                if not check_array_presence(move['state'], list(map(lambda x: x['state'], self.visited_states ))) and not self.found and move['depth'] < depth:\n",
    "                    self.dfs_storage.push(move)\n",
    "                    self.visited_states.append(move)\n",
    "\n",
    "        time_end = datetime.datetime.now()\n",
    "        print('not found after ', time_end - time_start, ' seconds')\n",
    "\n",
    "    def heuristic1(self):\n",
    "        count = 0\n",
    "        time_start = datetime.datetime.now()\n",
    "        self.heuristic1_storage = PriorityQueue()\n",
    "        self.heuristic1_storage.insert(\n",
    "            {\n",
    "                'state': initial_state,\n",
    "                'pos': (self.x1, self.y1),\n",
    "                'parent': None,\n",
    "                'depth': 0,\n",
    "                'score': manhattan_distance(initial_state, self.desired_state)\n",
    "            }\n",
    "        )\n",
    "\n",
    "        # clear visited state first\n",
    "        self.found = False\n",
    "        self.visited_states = []\n",
    "        self.visited_states.append(\n",
    "            {\n",
    "                'state': self.initial_state,\n",
    "                'pos': (self.x1, self.y1),\n",
    "                'parent': None,\n",
    "                'depth': 0,\n",
    "                'score': manhattan_distance(self.initial_state, self.desired_state)\n",
    "            }\n",
    "        )\n",
    "\n",
    "        while not self.heuristic1_storage.isEmpty() and count < self.maximum_iterations:\n",
    "            count += 1\n",
    "            current_state = self.heuristic1_storage.dequeue()\n",
    "\n",
    "            if (current_state['state'] == self.desired_state).all():\n",
    "                self.found = True\n",
    "                time_end = datetime.datetime.now()\n",
    "                print('found in ', time_end - time_start, ' seconds')\n",
    "                return\n",
    "            possible_moves = get_possible_moves(current_state['state'], self.desired_state, current_state['pos'][0], current_state['pos'][1], current_depth= current_state['depth'])\n",
    "\n",
    "            for move in possible_moves:\n",
    "\n",
    "                if (move['state'] == self.desired_state).all():\n",
    "                    self.visited_states.append(move)\n",
    "                    self.found = True\n",
    "                    time_end = datetime.datetime.now()\n",
    "                    print('found in ', time_end - time_start, ' seconds')\n",
    "                    return\n",
    "\n",
    "                if not check_array_presence(move['state'], list(map(lambda x: x['state'], self.visited_states ))) and not self.found:\n",
    "                    self.heuristic1_storage.insert(move)\n",
    "                    self.visited_states.append(move)\n",
    "        time_end = datetime.datetime.now()\n",
    "        print('not found after ', time_end - time_start, ' seconds')\n",
    "\n",
    "    def retrieve(self):\n",
    "\n",
    "        self.path = None\n",
    "\n",
    "        if self.found:\n",
    "            path = []\n",
    "            current_state = self.visited_states[-1]\n",
    "            while current_state['parent'] is not None:\n",
    "                path.append(current_state)\n",
    "                for state in self.visited_states:\n",
    "                    if (state['state'] == current_state['parent']).all():\n",
    "                        current_state = state\n",
    "                        break\n",
    "            path.append(current_state)\n",
    "            self.path = path[::-1]\n",
    "        else:\n",
    "            return"
   ],
   "metadata": {
    "collapsed": false,
    "ExecuteTime": {
     "end_time": "2023-06-27T16:39:14.163534200Z",
     "start_time": "2023-06-27T16:39:14.138664500Z"
    }
   }
  },
  {
   "cell_type": "code",
   "execution_count": 14,
   "outputs": [],
   "source": [
    "ins = Puzzle(initial_state, desired_state, iterations=1000)"
   ],
   "metadata": {
    "collapsed": false,
    "ExecuteTime": {
     "end_time": "2023-06-27T16:39:14.172441700Z",
     "start_time": "2023-06-27T16:39:14.165933900Z"
    }
   }
  },
  {
   "cell_type": "code",
   "execution_count": 15,
   "outputs": [
    {
     "name": "stdout",
     "output_type": "stream",
     "text": [
      "not found after  0:00:05.399430  seconds\n"
     ]
    }
   ],
   "source": [
    "ins.dfs()"
   ],
   "metadata": {
    "collapsed": false,
    "ExecuteTime": {
     "end_time": "2023-06-27T16:39:19.576143600Z",
     "start_time": "2023-06-27T16:39:14.169440800Z"
    }
   }
  },
  {
   "cell_type": "code",
   "execution_count": 16,
   "outputs": [
    {
     "data": {
      "text/plain": "1781"
     },
     "execution_count": 16,
     "metadata": {},
     "output_type": "execute_result"
    }
   ],
   "source": [
    "ins.visited_states.__len__()"
   ],
   "metadata": {
    "collapsed": false,
    "ExecuteTime": {
     "end_time": "2023-06-27T16:39:19.579555700Z",
     "start_time": "2023-06-27T16:39:19.576143600Z"
    }
   }
  },
  {
   "cell_type": "code",
   "execution_count": 17,
   "outputs": [],
   "source": [
    "ins.retrieve()"
   ],
   "metadata": {
    "collapsed": false,
    "ExecuteTime": {
     "end_time": "2023-06-27T16:39:19.592197200Z",
     "start_time": "2023-06-27T16:39:19.579555700Z"
    }
   }
  },
  {
   "cell_type": "code",
   "execution_count": 18,
   "outputs": [
    {
     "ename": "TypeError",
     "evalue": "'NoneType' object is not subscriptable",
     "output_type": "error",
     "traceback": [
      "\u001B[1;31m---------------------------------------------------------------------------\u001B[0m",
      "\u001B[1;31mTypeError\u001B[0m                                 Traceback (most recent call last)",
      "Cell \u001B[1;32mIn[18], line 1\u001B[0m\n\u001B[1;32m----> 1\u001B[0m \u001B[43mins\u001B[49m\u001B[38;5;241;43m.\u001B[39;49m\u001B[43mpath\u001B[49m\u001B[43m[\u001B[49m\u001B[38;5;241;43m-\u001B[39;49m\u001B[38;5;241;43m1\u001B[39;49m\u001B[43m]\u001B[49m\n",
      "\u001B[1;31mTypeError\u001B[0m: 'NoneType' object is not subscriptable"
     ]
    }
   ],
   "source": [
    "ins.path[-1]"
   ],
   "metadata": {
    "collapsed": false,
    "ExecuteTime": {
     "end_time": "2023-06-27T16:39:19.837995200Z",
     "start_time": "2023-06-27T16:39:19.584193600Z"
    }
   }
  },
  {
   "cell_type": "code",
   "execution_count": null,
   "outputs": [],
   "source": [
    "ins.bfs()"
   ],
   "metadata": {
    "collapsed": false
   }
  },
  {
   "cell_type": "code",
   "execution_count": null,
   "outputs": [],
   "source": [
    "ins.heuristic1()"
   ],
   "metadata": {
    "collapsed": false
   }
  },
  {
   "cell_type": "code",
   "execution_count": null,
   "outputs": [],
   "source": [
    "ins.retrieve()"
   ],
   "metadata": {
    "collapsed": false
   }
  },
  {
   "cell_type": "code",
   "execution_count": null,
   "outputs": [],
   "source": [
    "ins.path"
   ],
   "metadata": {
    "collapsed": false
   }
  },
  {
   "cell_type": "code",
   "execution_count": null,
   "outputs": [],
   "source": [],
   "metadata": {
    "collapsed": false
   }
  }
 ],
 "metadata": {
  "kernelspec": {
   "display_name": "Python 3",
   "language": "python",
   "name": "python3"
  },
  "language_info": {
   "codemirror_mode": {
    "name": "ipython",
    "version": 2
   },
   "file_extension": ".py",
   "mimetype": "text/x-python",
   "name": "python",
   "nbconvert_exporter": "python",
   "pygments_lexer": "ipython2",
   "version": "2.7.6"
  }
 },
 "nbformat": 4,
 "nbformat_minor": 0
}
