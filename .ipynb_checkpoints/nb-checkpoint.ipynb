{
 "cells": [
  {
   "cell_type": "code",
   "execution_count": 82,
   "metadata": {
    "ExecuteTime": {
     "end_time": "2023-07-08T01:22:31.172475200Z",
     "start_time": "2023-07-08T01:22:31.062147200Z"
    }
   },
   "outputs": [],
   "source": [
    "import numpy as np"
   ]
  },
  {
   "cell_type": "code",
   "execution_count": 83,
   "metadata": {
    "ExecuteTime": {
     "end_time": "2023-07-08T03:29:07.507449200Z",
     "start_time": "2023-07-08T03:29:07.502207800Z"
    }
   },
   "outputs": [],
   "source": [
    "class Othello:\n",
    "    def __init__(self):\n",
    "        self.board = np.zeros((8,8))\n",
    "        self.board[3,3] = 1\n",
    "        self.board[4,4] = 1\n",
    "        self.board[3,4] = -1\n",
    "        self.board[4,3] = -1\n",
    "        self.turn = 1\n",
    "        self.passed = False\n",
    "        self.winner = 0\n",
    "        self.legal_moves = self.get_legal_moves()\n",
    "        self.game_over = False\n",
    "        # self.score = self.get_score()\n",
    "        self.history = []\n",
    "        self.history.append(self.board.copy())\n",
    "    def get_legal_moves(self):\n",
    "        legal_moves = []\n",
    "        for i in range(8):\n",
    "            for j in range(8):\n",
    "                if self.board[i,j] == 0:\n",
    "                    if self.check_legal_move(i,j):\n",
    "                        legal_moves.append((i,j))\n",
    "        return legal_moves\n",
    "    def check_legal_move(self, i, j):\n",
    "        if self.board[i,j] != 0:\n",
    "            return False\n",
    "        for di in [-1,0,1]:\n",
    "            for dj in [-1,0,1]:\n",
    "                if di == 0 and dj == 0:\n",
    "                    continue\n",
    "                if self.check_legal_move_direction(i,j,di,dj):\n",
    "                    return True\n",
    "        return False\n",
    "    def check_legal_move_direction(self, i, j, di, dj):\n",
    "        if i+di < 0 or i+di > 7 or j+dj < 0 or j+dj > 7:\n",
    "            return False\n",
    "        if self.board[i+di,j+dj] == 0 or self.board[i+di,j+dj] == self.turn:\n",
    "            return False\n",
    "        for k in range(2,8):\n",
    "            if i+k*di < 0 or i+k*di > 7 or j+k*dj < 0 or j+k*dj > 7:\n",
    "                return False\n",
    "            if self.board[i+k*di,j+k*dj] == 0:\n",
    "                return False\n",
    "            if self.board[i+k*di,j+k*dj] == self.turn:\n",
    "                return True\n",
    "    def make_move(self, i, j):\n",
    "        if self.board[i,j] != 0:\n",
    "            return False\n",
    "        if (i,j) not in self.legal_moves:\n",
    "            return False\n",
    "        self.board[i,j] = self.turn\n",
    "        for di in [-1,0,1]:\n",
    "            for dj in [-1,0,1]:\n",
    "                if di == 0 and dj == 0:\n",
    "                    continue\n",
    "                if self.check_legal_move_direction(i,j,di,dj):\n",
    "                    self.make_move_direction(i,j,di,dj)\n",
    "        self.turn *= -1\n",
    "        self.legal_moves = self.get_legal_moves()\n",
    "        self.history.append(self.board.copy())\n",
    "        if len(self.legal_moves) == 0:\n",
    "            self.turn *= -1\n",
    "            self.legal_moves = self.get_legal_moves()\n",
    "            if len(self.legal_moves) == 0:\n",
    "                self.game_over = True\n",
    "                self.winner = np.sign(np.sum(self.board))\n",
    "        return True\n",
    "    def make_move_direction(self, i, j, di, dj):\n",
    "        for k in range(1,8):\n",
    "            if self.board[i+k*di,j+k*dj] == self.turn:\n",
    "                break\n",
    "            self.board[i+k*di,j+k*dj] = self.turn\n",
    "    def get_score(self):\n",
    "        score = 0\n",
    "        for i in range(8):\n",
    "            for j in range(8):\n",
    "                if (i==0 or i==7) and (j==0 or j==7):\n",
    "                    score += 10*self.board[i,j]\n",
    "                elif (i==0 or i==7) or (j==0 or j==7):\n",
    "                    score += 6*self.board[i,j]\n",
    "                elif (i==1 and j==1) or (i==1 and j==6) or (i==6 and j==1) or (i==6 and j==6):\n",
    "                    score += 5*self.board[i,j]\n",
    "                elif (i==1 or i==6) or (j==1 or j==6):\n",
    "                    score += 4*self.board[i,j]\n",
    "                elif (i==2 and j==2) or (i==2 and j==5) or (i==5 and j==2) or (i==5 and j==5):\n",
    "                    score += 3*self.board[i,j]\n",
    "                elif (i==2 or i==5) or (j==2 or j==5):\n",
    "                    score += 2*self.board[i,j]\n",
    "                else:\n",
    "                    score += self.board[i,j]\n",
    "        return score\n",
    "    # alpha beta pruning\n",
    "    def undo_move(self):\n",
    "        self.board = self.history.pop()\n",
    "        self.turn *= -1\n",
    "        self.legal_moves = self.get_legal_moves()\n",
    "\n",
    "    def max_val(self, alpha, beta, depth):\n",
    "        if depth == 0:\n",
    "            return self.get_score()\n",
    "        v = -np.inf\n",
    "        for move in self.legal_moves:\n",
    "            self.make_move(move[0], move[1])\n",
    "            v = max(v, self.min_val(alpha, beta, depth-1))\n",
    "            self.undo_move()\n",
    "            if v >= beta:\n",
    "                return v\n",
    "            alpha = max(alpha, v)\n",
    "        return v\n",
    "    def min_val(self, alpha, beta, depth):\n",
    "        if depth == 0:\n",
    "            return self.get_score()\n",
    "        v = np.inf\n",
    "        for move in self.legal_moves:\n",
    "            self.make_move(move[0], move[1])\n",
    "            v = min(v, self.max_val(alpha, beta, depth-1))\n",
    "            self.undo_move()\n",
    "            if v <= alpha:\n",
    "                return v\n",
    "            beta = min(beta, v)\n",
    "        return v\n",
    "    def alpha_beta_for_max_vertex(self,  depth):\n",
    "        v = -np.inf\n",
    "        alpha = -np.inf\n",
    "        beta = np.inf\n",
    "        best_move = None\n",
    "        for move in self.legal_moves:\n",
    "            self.make_move(move[0], move[1])\n",
    "            new_v = self.min_val(alpha, beta, depth-1)\n",
    "            self.undo_move()\n",
    "            if new_v > v:\n",
    "                v = new_v\n",
    "                best_move = move\n",
    "            if v >= beta:\n",
    "                return v, best_move\n",
    "            alpha = max(alpha, v)\n",
    "        return v, best_move\n",
    "    def alpha_beta_for_min_vertex(self, depth):\n",
    "        v = np.inf\n",
    "        alpha = -np.inf\n",
    "        beta = np.inf\n",
    "        best_move = None\n",
    "        for move in self.legal_moves:\n",
    "            self.make_move(move[0], move[1])\n",
    "            new_v = self.max_val(alpha, beta, depth-1)\n",
    "            self.undo_move()\n",
    "            if new_v < v:\n",
    "                v = new_v\n",
    "                best_move = move\n",
    "            if v <= alpha:\n",
    "                return v, best_move\n",
    "            beta = min(beta, v)\n",
    "        return v, best_move"
   ]
  },
  {
   "cell_type": "code",
   "execution_count": 84,
   "metadata": {
    "ExecuteTime": {
     "end_time": "2023-07-08T03:36:44.528957300Z",
     "start_time": "2023-07-08T03:36:44.517018300Z"
    }
   },
   "outputs": [],
   "source": [
    "othello_instance = Othello()"
   ]
  },
  {
   "cell_type": "code",
   "execution_count": 85,
   "metadata": {
    "ExecuteTime": {
     "end_time": "2023-07-08T03:36:44.957328100Z",
     "start_time": "2023-07-08T03:36:44.948688500Z"
    }
   },
   "outputs": [
    {
     "data": {
      "text/plain": [
       "array([[ 0.,  0.,  0.,  0.,  0.,  0.,  0.,  0.],\n",
       "       [ 0.,  0.,  0.,  0.,  0.,  0.,  0.,  0.],\n",
       "       [ 0.,  0.,  0.,  0.,  0.,  0.,  0.,  0.],\n",
       "       [ 0.,  0.,  0.,  1., -1.,  0.,  0.,  0.],\n",
       "       [ 0.,  0.,  0., -1.,  1.,  0.,  0.,  0.],\n",
       "       [ 0.,  0.,  0.,  0.,  0.,  0.,  0.,  0.],\n",
       "       [ 0.,  0.,  0.,  0.,  0.,  0.,  0.,  0.],\n",
       "       [ 0.,  0.,  0.,  0.,  0.,  0.,  0.,  0.]])"
      ]
     },
     "execution_count": 85,
     "metadata": {},
     "output_type": "execute_result"
    }
   ],
   "source": [
    "othello_instance.board"
   ]
  },
  {
   "cell_type": "code",
   "execution_count": 86,
   "metadata": {
    "ExecuteTime": {
     "end_time": "2023-07-08T03:36:45.704911600Z",
     "start_time": "2023-07-08T03:36:45.702968300Z"
    }
   },
   "outputs": [
    {
     "data": {
      "text/plain": [
       "[(2, 4), (3, 5), (4, 2), (5, 3)]"
      ]
     },
     "execution_count": 86,
     "metadata": {},
     "output_type": "execute_result"
    }
   ],
   "source": [
    "othello_instance.legal_moves"
   ]
  },
  {
   "cell_type": "code",
   "execution_count": 87,
   "metadata": {
    "ExecuteTime": {
     "end_time": "2023-07-08T03:36:46.444362100Z",
     "start_time": "2023-07-08T03:36:46.437835700Z"
    }
   },
   "outputs": [
    {
     "data": {
      "text/plain": [
       "True"
      ]
     },
     "execution_count": 87,
     "metadata": {},
     "output_type": "execute_result"
    }
   ],
   "source": [
    "othello_instance.make_move(2,4)"
   ]
  },
  {
   "cell_type": "code",
   "execution_count": 88,
   "metadata": {
    "ExecuteTime": {
     "end_time": "2023-07-08T03:36:47.976499Z",
     "start_time": "2023-07-08T03:36:47.967351900Z"
    }
   },
   "outputs": [
    {
     "data": {
      "text/plain": [
       "array([[ 0.,  0.,  0.,  0.,  0.,  0.,  0.,  0.],\n",
       "       [ 0.,  0.,  0.,  0.,  0.,  0.,  0.,  0.],\n",
       "       [ 0.,  0.,  0.,  0.,  1.,  0.,  0.,  0.],\n",
       "       [ 0.,  0.,  0.,  1.,  1.,  0.,  0.,  0.],\n",
       "       [ 0.,  0.,  0., -1.,  1.,  0.,  0.,  0.],\n",
       "       [ 0.,  0.,  0.,  0.,  0.,  0.,  0.,  0.],\n",
       "       [ 0.,  0.,  0.,  0.,  0.,  0.,  0.,  0.],\n",
       "       [ 0.,  0.,  0.,  0.,  0.,  0.,  0.,  0.]])"
      ]
     },
     "execution_count": 88,
     "metadata": {},
     "output_type": "execute_result"
    }
   ],
   "source": [
    "othello_instance.board"
   ]
  },
  {
   "cell_type": "code",
   "execution_count": 89,
   "metadata": {
    "ExecuteTime": {
     "end_time": "2023-07-08T03:36:50.367972600Z",
     "start_time": "2023-07-08T03:36:50.361140800Z"
    }
   },
   "outputs": [
    {
     "data": {
      "text/plain": [
       "[(2, 3), (2, 5), (4, 5)]"
      ]
     },
     "execution_count": 89,
     "metadata": {},
     "output_type": "execute_result"
    }
   ],
   "source": [
    "othello_instance.legal_moves"
   ]
  },
  {
   "cell_type": "code",
   "execution_count": 90,
   "metadata": {
    "scrolled": true
   },
   "outputs": [
    {
     "ename": "IndexError",
     "evalue": "pop from empty list",
     "output_type": "error",
     "traceback": [
      "\u001b[1;31m---------------------------------------------------------------------------\u001b[0m",
      "\u001b[1;31mIndexError\u001b[0m                                Traceback (most recent call last)",
      "Cell \u001b[1;32mIn[90], line 1\u001b[0m\n\u001b[1;32m----> 1\u001b[0m \u001b[43mothello_instance\u001b[49m\u001b[38;5;241;43m.\u001b[39;49m\u001b[43malpha_beta_for_min_vertex\u001b[49m\u001b[43m(\u001b[49m\u001b[38;5;241;43m3\u001b[39;49m\u001b[43m)\u001b[49m\n",
      "Cell \u001b[1;32mIn[83], line 145\u001b[0m, in \u001b[0;36mOthello.alpha_beta_for_min_vertex\u001b[1;34m(self, depth)\u001b[0m\n\u001b[0;32m    143\u001b[0m \u001b[38;5;28;01mfor\u001b[39;00m move \u001b[38;5;129;01min\u001b[39;00m \u001b[38;5;28mself\u001b[39m\u001b[38;5;241m.\u001b[39mlegal_moves:\n\u001b[0;32m    144\u001b[0m     \u001b[38;5;28mself\u001b[39m\u001b[38;5;241m.\u001b[39mmake_move(move[\u001b[38;5;241m0\u001b[39m], move[\u001b[38;5;241m1\u001b[39m])\n\u001b[1;32m--> 145\u001b[0m     new_v \u001b[38;5;241m=\u001b[39m \u001b[38;5;28;43mself\u001b[39;49m\u001b[38;5;241;43m.\u001b[39;49m\u001b[43mmax_val\u001b[49m\u001b[43m(\u001b[49m\u001b[43malpha\u001b[49m\u001b[43m,\u001b[49m\u001b[43m \u001b[49m\u001b[43mbeta\u001b[49m\u001b[43m,\u001b[49m\u001b[43m \u001b[49m\u001b[43mdepth\u001b[49m\u001b[38;5;241;43m-\u001b[39;49m\u001b[38;5;241;43m1\u001b[39;49m\u001b[43m)\u001b[49m\n\u001b[0;32m    146\u001b[0m     \u001b[38;5;28mself\u001b[39m\u001b[38;5;241m.\u001b[39mundo_move()\n\u001b[0;32m    147\u001b[0m     \u001b[38;5;28;01mif\u001b[39;00m new_v \u001b[38;5;241m<\u001b[39m v:\n",
      "Cell \u001b[1;32mIn[83], line 105\u001b[0m, in \u001b[0;36mOthello.max_val\u001b[1;34m(self, alpha, beta, depth)\u001b[0m\n\u001b[0;32m    103\u001b[0m \u001b[38;5;28mself\u001b[39m\u001b[38;5;241m.\u001b[39mmake_move(move[\u001b[38;5;241m0\u001b[39m], move[\u001b[38;5;241m1\u001b[39m])\n\u001b[0;32m    104\u001b[0m v \u001b[38;5;241m=\u001b[39m \u001b[38;5;28mmax\u001b[39m(v, \u001b[38;5;28mself\u001b[39m\u001b[38;5;241m.\u001b[39mmin_val(alpha, beta, depth\u001b[38;5;241m-\u001b[39m\u001b[38;5;241m1\u001b[39m))\n\u001b[1;32m--> 105\u001b[0m \u001b[38;5;28;43mself\u001b[39;49m\u001b[38;5;241;43m.\u001b[39;49m\u001b[43mundo_move\u001b[49m\u001b[43m(\u001b[49m\u001b[43m)\u001b[49m\n\u001b[0;32m    106\u001b[0m \u001b[38;5;28;01mif\u001b[39;00m v \u001b[38;5;241m>\u001b[39m\u001b[38;5;241m=\u001b[39m beta:\n\u001b[0;32m    107\u001b[0m     \u001b[38;5;28;01mreturn\u001b[39;00m v\n",
      "Cell \u001b[1;32mIn[83], line 94\u001b[0m, in \u001b[0;36mOthello.undo_move\u001b[1;34m(self)\u001b[0m\n\u001b[0;32m     93\u001b[0m \u001b[38;5;28;01mdef\u001b[39;00m \u001b[38;5;21mundo_move\u001b[39m(\u001b[38;5;28mself\u001b[39m):\n\u001b[1;32m---> 94\u001b[0m     \u001b[38;5;28mself\u001b[39m\u001b[38;5;241m.\u001b[39mboard \u001b[38;5;241m=\u001b[39m \u001b[38;5;28mself\u001b[39m\u001b[38;5;241m.\u001b[39mhistory\u001b[38;5;241m.\u001b[39mpop()\n\u001b[0;32m     95\u001b[0m     \u001b[38;5;28mself\u001b[39m\u001b[38;5;241m.\u001b[39mturn \u001b[38;5;241m*\u001b[39m\u001b[38;5;241m=\u001b[39m \u001b[38;5;241m-\u001b[39m\u001b[38;5;241m1\u001b[39m\n\u001b[0;32m     96\u001b[0m     \u001b[38;5;28mself\u001b[39m\u001b[38;5;241m.\u001b[39mlegal_moves \u001b[38;5;241m=\u001b[39m \u001b[38;5;28mself\u001b[39m\u001b[38;5;241m.\u001b[39mget_legal_moves()\n",
      "\u001b[1;31mIndexError\u001b[0m: pop from empty list"
     ]
    }
   ],
   "source": [
    "othello_instance.alpha_beta_for_min_vertex(3)"
   ]
  },
  {
   "cell_type": "code",
   "execution_count": 45,
   "metadata": {
    "ExecuteTime": {
     "end_time": "2023-07-08T03:22:00.591649800Z",
     "start_time": "2023-07-08T03:22:00.582427600Z"
    }
   },
   "outputs": [
    {
     "data": {
      "text/plain": [
       "array([[ 0.,  0.,  0.,  0.,  0.,  0.,  0.,  0.],\n",
       "       [ 0.,  0.,  0.,  0.,  0.,  0.,  0.,  0.],\n",
       "       [ 0.,  0.,  0., -1.,  0.,  0.,  0.,  0.],\n",
       "       [ 0.,  0.,  0., -1., -1.,  0.,  0.,  0.],\n",
       "       [ 0.,  0.,  0., -1., -1., -1.,  0.,  0.],\n",
       "       [ 0.,  0.,  0.,  0.,  0.,  0.,  0.,  0.],\n",
       "       [ 0.,  0.,  0.,  0.,  0.,  0.,  0.,  0.],\n",
       "       [ 0.,  0.,  0.,  0.,  0.,  0.,  0.,  0.]])"
      ]
     },
     "execution_count": 45,
     "metadata": {},
     "output_type": "execute_result"
    }
   ],
   "source": [
    "othello_instance.board"
   ]
  },
  {
   "cell_type": "code",
   "execution_count": 44,
   "metadata": {
    "ExecuteTime": {
     "end_time": "2023-07-08T03:21:21.424303600Z",
     "start_time": "2023-07-08T03:21:21.417300Z"
    }
   },
   "outputs": [
    {
     "data": {
      "text/plain": [
       "[]"
      ]
     },
     "execution_count": 44,
     "metadata": {},
     "output_type": "execute_result"
    }
   ],
   "source": [
    "othello_instance.legal_moves"
   ]
  },
  {
   "cell_type": "code",
   "execution_count": 27,
   "metadata": {
    "ExecuteTime": {
     "end_time": "2023-07-08T02:06:34.762669600Z",
     "start_time": "2023-07-08T02:06:34.759052400Z"
    }
   },
   "outputs": [
    {
     "data": {
      "text/plain": [
       "[(2, 4), (3, 5), (4, 2), (5, 3)]"
      ]
     },
     "execution_count": 27,
     "metadata": {},
     "output_type": "execute_result"
    }
   ],
   "source": [
    "othello_instance.legal_moves"
   ]
  },
  {
   "cell_type": "code",
   "execution_count": 29,
   "metadata": {
    "ExecuteTime": {
     "end_time": "2023-07-08T02:06:45.865410500Z",
     "start_time": "2023-07-08T02:06:45.860057500Z"
    }
   },
   "outputs": [
    {
     "data": {
      "text/plain": [
       "True"
      ]
     },
     "execution_count": 29,
     "metadata": {},
     "output_type": "execute_result"
    }
   ],
   "source": [
    "othello_instance.make_move(2,4)"
   ]
  },
  {
   "cell_type": "code",
   "execution_count": 30,
   "metadata": {
    "ExecuteTime": {
     "end_time": "2023-07-08T02:07:18.028470200Z",
     "start_time": "2023-07-08T02:07:18.016536900Z"
    }
   },
   "outputs": [
    {
     "data": {
      "text/plain": [
       "[array([[ 0.,  0.,  0.,  0.,  0.,  0.,  0.,  0.],\n",
       "        [ 0.,  0.,  0.,  0.,  0.,  0.,  0.,  0.],\n",
       "        [ 0.,  0.,  0.,  0.,  0.,  0.,  0.,  0.],\n",
       "        [ 0.,  0.,  0.,  1., -1.,  0.,  0.,  0.],\n",
       "        [ 0.,  0.,  0., -1.,  1.,  0.,  0.,  0.],\n",
       "        [ 0.,  0.,  0.,  0.,  0.,  0.,  0.,  0.],\n",
       "        [ 0.,  0.,  0.,  0.,  0.,  0.,  0.,  0.],\n",
       "        [ 0.,  0.,  0.,  0.,  0.,  0.,  0.,  0.]]),\n",
       " array([[ 0.,  0.,  0.,  0.,  0.,  0.,  0.,  0.],\n",
       "        [ 0.,  0.,  0.,  0.,  0.,  0.,  0.,  0.],\n",
       "        [ 0.,  0.,  0.,  0.,  1.,  0.,  0.,  0.],\n",
       "        [ 0.,  0.,  0.,  1.,  1.,  0.,  0.,  0.],\n",
       "        [ 0.,  0.,  0., -1.,  1.,  0.,  0.,  0.],\n",
       "        [ 0.,  0.,  0.,  0.,  0.,  0.,  0.,  0.],\n",
       "        [ 0.,  0.,  0.,  0.,  0.,  0.,  0.,  0.],\n",
       "        [ 0.,  0.,  0.,  0.,  0.,  0.,  0.,  0.]])]"
      ]
     },
     "execution_count": 30,
     "metadata": {},
     "output_type": "execute_result"
    }
   ],
   "source": [
    "othello_instance.history"
   ]
  },
  {
   "cell_type": "code",
   "execution_count": 31,
   "metadata": {
    "ExecuteTime": {
     "end_time": "2023-07-08T02:07:48.749963900Z",
     "start_time": "2023-07-08T02:07:48.744963Z"
    }
   },
   "outputs": [
    {
     "data": {
      "text/plain": [
       "[(2, 3), (2, 5), (4, 5)]"
      ]
     },
     "execution_count": 31,
     "metadata": {},
     "output_type": "execute_result"
    }
   ],
   "source": [
    "othello_instance.legal_moves"
   ]
  },
  {
   "cell_type": "code",
   "execution_count": 32,
   "metadata": {
    "ExecuteTime": {
     "end_time": "2023-07-08T02:08:20.937255700Z",
     "start_time": "2023-07-08T02:08:20.932517400Z"
    }
   },
   "outputs": [
    {
     "data": {
      "text/plain": [
       "True"
      ]
     },
     "execution_count": 32,
     "metadata": {},
     "output_type": "execute_result"
    }
   ],
   "source": [
    "othello_instance.make_move(2,3)"
   ]
  },
  {
   "cell_type": "code",
   "execution_count": 33,
   "metadata": {
    "ExecuteTime": {
     "end_time": "2023-07-08T02:08:22.745965900Z",
     "start_time": "2023-07-08T02:08:22.739508100Z"
    }
   },
   "outputs": [
    {
     "data": {
      "text/plain": [
       "[array([[ 0.,  0.,  0.,  0.,  0.,  0.,  0.,  0.],\n",
       "        [ 0.,  0.,  0.,  0.,  0.,  0.,  0.,  0.],\n",
       "        [ 0.,  0.,  0.,  0.,  0.,  0.,  0.,  0.],\n",
       "        [ 0.,  0.,  0.,  1., -1.,  0.,  0.,  0.],\n",
       "        [ 0.,  0.,  0., -1.,  1.,  0.,  0.,  0.],\n",
       "        [ 0.,  0.,  0.,  0.,  0.,  0.,  0.,  0.],\n",
       "        [ 0.,  0.,  0.,  0.,  0.,  0.,  0.,  0.],\n",
       "        [ 0.,  0.,  0.,  0.,  0.,  0.,  0.,  0.]]),\n",
       " array([[ 0.,  0.,  0.,  0.,  0.,  0.,  0.,  0.],\n",
       "        [ 0.,  0.,  0.,  0.,  0.,  0.,  0.,  0.],\n",
       "        [ 0.,  0.,  0.,  0.,  1.,  0.,  0.,  0.],\n",
       "        [ 0.,  0.,  0.,  1.,  1.,  0.,  0.,  0.],\n",
       "        [ 0.,  0.,  0., -1.,  1.,  0.,  0.,  0.],\n",
       "        [ 0.,  0.,  0.,  0.,  0.,  0.,  0.,  0.],\n",
       "        [ 0.,  0.,  0.,  0.,  0.,  0.,  0.,  0.],\n",
       "        [ 0.,  0.,  0.,  0.,  0.,  0.,  0.,  0.]]),\n",
       " array([[ 0.,  0.,  0.,  0.,  0.,  0.,  0.,  0.],\n",
       "        [ 0.,  0.,  0.,  0.,  0.,  0.,  0.,  0.],\n",
       "        [ 0.,  0.,  0., -1.,  1.,  0.,  0.,  0.],\n",
       "        [ 0.,  0.,  0., -1.,  1.,  0.,  0.,  0.],\n",
       "        [ 0.,  0.,  0., -1.,  1.,  0.,  0.,  0.],\n",
       "        [ 0.,  0.,  0.,  0.,  0.,  0.,  0.,  0.],\n",
       "        [ 0.,  0.,  0.,  0.,  0.,  0.,  0.,  0.],\n",
       "        [ 0.,  0.,  0.,  0.,  0.,  0.,  0.,  0.]])]"
      ]
     },
     "execution_count": 33,
     "metadata": {},
     "output_type": "execute_result"
    }
   ],
   "source": [
    "othello_instance.history"
   ]
  },
  {
   "cell_type": "code",
   "execution_count": 34,
   "metadata": {
    "ExecuteTime": {
     "end_time": "2023-07-08T02:29:57.173077300Z",
     "start_time": "2023-07-08T02:29:57.167074900Z"
    }
   },
   "outputs": [
    {
     "data": {
      "text/plain": [
       "[(1, 2), (2, 2), (3, 2), (4, 2), (5, 2)]"
      ]
     },
     "execution_count": 34,
     "metadata": {},
     "output_type": "execute_result"
    }
   ],
   "source": [
    "othello_instance.legal_moves"
   ]
  },
  {
   "cell_type": "code",
   "execution_count": 35,
   "metadata": {
    "ExecuteTime": {
     "end_time": "2023-07-08T02:30:01.709653100Z",
     "start_time": "2023-07-08T02:30:01.703652800Z"
    }
   },
   "outputs": [
    {
     "data": {
      "text/plain": [
       "True"
      ]
     },
     "execution_count": 35,
     "metadata": {},
     "output_type": "execute_result"
    }
   ],
   "source": [
    "othello_instance.make_move(2,2)"
   ]
  },
  {
   "cell_type": "code",
   "execution_count": 36,
   "metadata": {
    "ExecuteTime": {
     "end_time": "2023-07-08T02:30:07.672018500Z",
     "start_time": "2023-07-08T02:30:07.659012900Z"
    }
   },
   "outputs": [
    {
     "data": {
      "text/plain": [
       "array([[ 0.,  0.,  0.,  0.,  0.,  0.,  0.,  0.],\n",
       "       [ 0.,  0.,  0.,  0.,  0.,  0.,  0.,  0.],\n",
       "       [ 0.,  0.,  1.,  1.,  1.,  0.,  0.,  0.],\n",
       "       [ 0.,  0.,  0.,  1.,  1.,  0.,  0.,  0.],\n",
       "       [ 0.,  0.,  0., -1.,  1.,  0.,  0.,  0.],\n",
       "       [ 0.,  0.,  0.,  0.,  0.,  0.,  0.,  0.],\n",
       "       [ 0.,  0.,  0.,  0.,  0.,  0.,  0.,  0.],\n",
       "       [ 0.,  0.,  0.,  0.,  0.,  0.,  0.,  0.]])"
      ]
     },
     "execution_count": 36,
     "metadata": {},
     "output_type": "execute_result"
    }
   ],
   "source": [
    "othello_instance.history[-1]"
   ]
  },
  {
   "cell_type": "code",
   "execution_count": null,
   "metadata": {},
   "outputs": [],
   "source": []
  }
 ],
 "metadata": {
  "kernelspec": {
   "display_name": "Python 3 (ipykernel)",
   "language": "python",
   "name": "python3"
  },
  "language_info": {
   "codemirror_mode": {
    "name": "ipython",
    "version": 3
   },
   "file_extension": ".py",
   "mimetype": "text/x-python",
   "name": "python",
   "nbconvert_exporter": "python",
   "pygments_lexer": "ipython3",
   "version": "3.11.4"
  }
 },
 "nbformat": 4,
 "nbformat_minor": 1
}
